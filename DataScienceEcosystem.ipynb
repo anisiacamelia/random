{
  "metadata": {
    "kernelspec": {
      "name": "python",
      "display_name": "Python (Pyodide)",
      "language": "python"
    },
    "language_info": {
      "codemirror_mode": {
        "name": "python",
        "version": 3
      },
      "file_extension": ".py",
      "mimetype": "text/x-python",
      "name": "python",
      "nbconvert_exporter": "python",
      "pygments_lexer": "ipython3",
      "version": "3.8"
    }
  },
  "nbformat_minor": 4,
  "nbformat": 4,
  "cells": [
    {
      "cell_type": "markdown",
      "source": "# Data Science Tools and Ecosystem\r\n\n",
      "metadata": {}
    },
    {
      "cell_type": "markdown",
      "source": "In this notebook, Data Science Tools and Ecosystem are summarized.\r\n",
      "metadata": {}
    },
    {
      "cell_type": "markdown",
      "source": "**Objectives:**\r\n\r\n- List popular languages for Data Science.\r\n- Explain the concept of version control and its importance in software development.\r\n- Introduce common tools and libraries used in data science.\r\n- Provide examples of arithmetic expressions and conversions in Python.\r\n- Demonstrate how to create and format markdown cells in a Jupyter notebook.\n",
      "metadata": {}
    },
    {
      "cell_type": "markdown",
      "source": "Some of the popular languages that Data Scientists use are:\n\n 1. python\n 2. R\n 3. Julia\r\n",
      "metadata": {}
    },
    {
      "cell_type": "markdown",
      "source": "    Some of the commonly used libraries used by Data Scientists include:\n\n    1. Pandas\n    2. NumPy\n    3. Matplotlib\n    4. TensorFlow\n    5. Scikit-Learm\r\n",
      "metadata": {}
    },
    {
      "cell_type": "markdown",
      "source": "Data Science Tools:\n\n| Development Environment |\n|------------------------|\n| Jupyter Notebook       |\n| RStudio                |\n| Visual Studio Code     |",
      "metadata": {}
    },
    {
      "cell_type": "markdown",
      "source": "### Examples of Evaluating Arithmetic Expressions in Python\r\n\r\nArithmetic expressions are fundamental in programming, and Python provides powerful tools for working with them. Below are a few examples of evaluating arithmetic expressions in Python:",
      "metadata": {}
    },
    {
      "cell_type": "code",
      "source": "# This is a simple arithmetic expression to multiply then add integers.\nresult = (3 * 4) + 5\nresult",
      "metadata": {
        "trusted": true
      },
      "outputs": [
        {
          "execution_count": 10,
          "output_type": "execute_result",
          "data": {
            "text/plain": "17"
          },
          "metadata": {}
        }
      ],
      "execution_count": 10
    },
    {
      "cell_type": "code",
      "source": "# This will convert 200 minutes to hours by dividing by 60.\nminutes = 200\nhours = minutes / 60\nhours",
      "metadata": {
        "trusted": true
      },
      "outputs": [
        {
          "execution_count": 11,
          "output_type": "execute_result",
          "data": {
            "text/plain": "3.3333333333333335"
          },
          "metadata": {}
        }
      ],
      "execution_count": 11
    },
    {
      "cell_type": "markdown",
      "source": "## Author\r\nAna Mariaoe",
      "metadata": {}
    }
  ]
}